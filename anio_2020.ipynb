{
 "cells": [
  {
   "cell_type": "code",
   "execution_count": null,
   "metadata": {},
   "outputs": [],
   "source": [
    "# Importando Librerías\n",
    "import re\n",
    "import json\n",
    "import pickle\n",
    "import pprint\n",
    "import pandas as pd\n",
    "import numpy as np\n",
    "import matplotlib.pyplot as plt\n",
    "from selenium import webdriver\n",
    "from selenium.webdriver.common.by import By\n",
    "from selenium.webdriver.chrome.options import Options\n",
    "\n",
    "from classes.game import Game\n",
    "import warnings\n",
    "warnings.filterwarnings(\"ignore\")"
   ]
  },
  {
   "cell_type": "code",
   "execution_count": null,
   "metadata": {},
   "outputs": [],
   "source": [
    "# Links\n",
    "# 2020: https://www.ceroacero.es/edition.php?id_edicao=141620\n",
    "    # Jornada 1: https://www.ceroacero.es/edition.php?jornada_in=1&id_edicao=141620&fase=136763"
   ]
  },
  {
   "cell_type": "code",
   "execution_count": null,
   "metadata": {},
   "outputs": [],
   "source": [
    "anio_2020 = Game()"
   ]
  },
  {
   "cell_type": "code",
   "execution_count": null,
   "metadata": {},
   "outputs": [],
   "source": [
    "link_2020 = 'https://www.ceroacero.es/edition.php?id_edicao=141620'\n",
    "anio_2020.get_web(link_2020)\n",
    "anio_2020.add_cookies()"
   ]
  },
  {
   "cell_type": "code",
   "execution_count": null,
   "metadata": {},
   "outputs": [],
   "source": [
    "total_jornadas = anio_2020.get_jornadas()\n",
    "total_jornadas"
   ]
  },
  {
   "cell_type": "code",
   "execution_count": null,
   "metadata": {},
   "outputs": [],
   "source": [
    "print('Total de Jornadas', total_jornadas)\n",
    "\n",
    "games = []\n",
    "for jornada in range(1,total_jornadas+1):\n",
    "\n",
    "    link_jornada = f'https://www.ceroacero.es/edition.php?jornada_in={jornada}&id_edicao=141620&fase=136763'\n",
    "    print('Jornada', jornada, '->', link_jornada)\n",
    "\n",
    "    anio_2020.get_web(link_jornada)\n",
    "\n",
    "    games.extend(anio_2020.dates_games(jornada))\n",
    "    print(games)\n",
    "    print('-'*150)"
   ]
  },
  {
   "cell_type": "code",
   "execution_count": null,
   "metadata": {},
   "outputs": [],
   "source": [
    "df = pd.DataFrame(data=games, columns = ['Jornada', 'Fecha', 'Local', 'Visitante', 'Goles Local', 'Goles Visitante', 'Link'])\n",
    "df.Fecha = pd.to_datetime(df.Fecha + '/2020')\n",
    "df"
   ]
  },
  {
   "cell_type": "code",
   "execution_count": null,
   "metadata": {},
   "outputs": [],
   "source": []
  }
 ],
 "metadata": {
  "kernelspec": {
   "display_name": "Python 3.9.7 ('venv': venv)",
   "language": "python",
   "name": "python3"
  },
  "language_info": {
   "codemirror_mode": {
    "name": "ipython",
    "version": 3
   },
   "file_extension": ".py",
   "mimetype": "text/x-python",
   "name": "python",
   "nbconvert_exporter": "python",
   "pygments_lexer": "ipython3",
   "version": "3.9.7"
  },
  "orig_nbformat": 4,
  "vscode": {
   "interpreter": {
    "hash": "7036403a8e73382333f7756f1e55582662a8c17d36deed73eee412f515ddea5b"
   }
  }
 },
 "nbformat": 4,
 "nbformat_minor": 2
}
