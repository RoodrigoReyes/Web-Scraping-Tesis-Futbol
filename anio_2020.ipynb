{
 "cells": [
  {
   "cell_type": "code",
   "execution_count": 1,
   "metadata": {},
   "outputs": [],
   "source": [
    "# Importando Librerías\n",
    "import re\n",
    "import json\n",
    "import pickle\n",
    "import pprint\n",
    "import pandas as pd\n",
    "import numpy as np\n",
    "import matplotlib.pyplot as plt\n",
    "from selenium import webdriver\n",
    "from selenium.webdriver.common.by import By\n",
    "from selenium.webdriver.chrome.options import Options\n",
    "\n",
    "from classes.game import Game\n",
    "import warnings\n",
    "warnings.filterwarnings(\"ignore\")"
   ]
  },
  {
   "cell_type": "code",
   "execution_count": 2,
   "metadata": {},
   "outputs": [],
   "source": [
    "# Links\n",
    "# 2020: https://www.ceroacero.es/edition.php?id_edicao=141620\n",
    "    # Jornada 1: https://www.ceroacero.es/edition.php?jornada_in=1&id_edicao=141620&fase=136763"
   ]
  },
  {
   "cell_type": "code",
   "execution_count": 3,
   "metadata": {},
   "outputs": [],
   "source": [
    "anio_2020 = Game()"
   ]
  },
  {
   "cell_type": "code",
   "execution_count": 4,
   "metadata": {},
   "outputs": [],
   "source": [
    "link_2020 = 'https://www.ceroacero.es/edition.php?id_edicao=141620'\n",
    "anio_2020.get_web(link_2020)\n",
    "anio_2020.add_cookies()"
   ]
  },
  {
   "cell_type": "code",
   "execution_count": 5,
   "metadata": {},
   "outputs": [
    {
     "name": "stdout",
     "output_type": "stream",
     "text": [
      "19\n"
     ]
    }
   ],
   "source": [
    "total_jornadas = anio_2020.get_jornadas()\n",
    "# games_links = anio_2020.games_links()\n",
    "\n",
    "print(total_jornadas)\n",
    "# print(games_links)"
   ]
  },
  {
   "cell_type": "code",
   "execution_count": 6,
   "metadata": {},
   "outputs": [
    {
     "name": "stdout",
     "output_type": "stream",
     "text": [
      "Total de Jornadas 19\n",
      "Jornada 1 -> https://www.ceroacero.es/edition.php?jornada_in=1&id_edicao=141620&fase=136763\n",
      "\t https://www.ceroacero.es/match.php?id=7324623 https://www.ceroacero.es/match_performance.php?id=7324623 Tablas -> 4\n",
      "\t https://www.ceroacero.es/match.php?id=7324624 https://www.ceroacero.es/match_performance.php?id=7324624 Tablas -> 4\n",
      "\t https://www.ceroacero.es/match.php?id=7324625 https://www.ceroacero.es/match_performance.php?id=7324625 Tablas -> 4\n",
      "\t https://www.ceroacero.es/match.php?id=7324626 https://www.ceroacero.es/match_performance.php?id=7324626 Tablas -> 4\n",
      "\t https://www.ceroacero.es/match.php?id=7324627 https://www.ceroacero.es/match_performance.php?id=7324627 Tablas -> 4\n",
      "\t https://www.ceroacero.es/match.php?id=7324628 https://www.ceroacero.es/match_performance.php?id=7324628 Tablas -> 4\n",
      "\t https://www.ceroacero.es/match.php?id=7324629 https://www.ceroacero.es/match_performance.php?id=7324629 Tablas -> 4\n",
      "\t https://www.ceroacero.es/match.php?id=7324630 https://www.ceroacero.es/match_performance.php?id=7324630 Tablas -> 4\n",
      "\t https://www.ceroacero.es/match.php?id=7324631 https://www.ceroacero.es/match_performance.php?id=7324631 Tablas -> 4\n",
      "\t https://www.ceroacero.es/match.php?id=7324632 https://www.ceroacero.es/match_performance.php?id=7324632 Tablas -> 4\n",
      "------------------------------------------------------------------------------------------------------------------------------------------------------\n"
     ]
    }
   ],
   "source": [
    "print('Total de Jornadas', total_jornadas)\n",
    "\n",
    "for jornada in range(1,total_jornadas+1):\n",
    "    link_jornada = f'https://www.ceroacero.es/edition.php?jornada_in={jornada}&id_edicao=141620&fase=136763'\n",
    "    \n",
    "    print('Jornada', jornada, '->', link_jornada)\n",
    "\n",
    "    anio_2020.get_web(link_jornada)\n",
    "    games_links = anio_2020.games_links()\n",
    "\n",
    "    if jornada!=total_jornadas:\n",
    "        games_links = games_links[:len(games_links)//2]\n",
    "\n",
    "    for game in games_links:\n",
    "\n",
    "        print('\\t',game, end=' ')\n",
    "        anio_2020.get_web(game)\n",
    "\n",
    "        performance_link = game.replace('match','match_performance')\n",
    "        performance_table = pd.read_html(performance_link)\n",
    "        print(performance_link,'Tablas ->',len(performance_table))\n",
    "\n",
    "    print('-'*150)\n",
    "    break"
   ]
  },
  {
   "cell_type": "code",
   "execution_count": null,
   "metadata": {},
   "outputs": [],
   "source": [
    "jornada_17 = 'https://www.ceroacero.es/edition.php?jornada_in=17&id_edicao=141620&fase=136763'\n",
    "anio_2020.get_web('https://www.ceroacero.es/edition.php?jornada_in=17&id_edicao=141620&fase=136763')\n",
    "anio_2020.add_cookies()"
   ]
  },
  {
   "cell_type": "code",
   "execution_count": null,
   "metadata": {},
   "outputs": [],
   "source": [
    "pd.read_html('https://www.ceroacero.es/match_performance.php?id=7324640')"
   ]
  },
  {
   "cell_type": "code",
   "execution_count": null,
   "metadata": {},
   "outputs": [],
   "source": []
  }
 ],
 "metadata": {
  "kernelspec": {
   "display_name": "Python 3.9.7 ('venv': venv)",
   "language": "python",
   "name": "python3"
  },
  "language_info": {
   "codemirror_mode": {
    "name": "ipython",
    "version": 3
   },
   "file_extension": ".py",
   "mimetype": "text/x-python",
   "name": "python",
   "nbconvert_exporter": "python",
   "pygments_lexer": "ipython3",
   "version": "3.9.7"
  },
  "orig_nbformat": 4,
  "vscode": {
   "interpreter": {
    "hash": "7036403a8e73382333f7756f1e55582662a8c17d36deed73eee412f515ddea5b"
   }
  }
 },
 "nbformat": 4,
 "nbformat_minor": 2
}
