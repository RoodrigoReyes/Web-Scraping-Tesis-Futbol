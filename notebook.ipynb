{
 "cells": [
  {
   "cell_type": "code",
   "execution_count": 1,
   "metadata": {},
   "outputs": [],
   "source": [
    "# Importando Librerías\n",
    "import re\n",
    "import json\n",
    "import time\n",
    "import pickle\n",
    "import pprint\n",
    "import pandas as pd\n",
    "import numpy as np\n",
    "import matplotlib.pyplot as plt\n",
    "from selenium import webdriver\n",
    "from selenium.webdriver.common.by import By\n",
    "from selenium.webdriver.chrome.options import Options\n",
    "import warnings\n",
    "warnings.filterwarnings(\"ignore\")\n",
    "pd.set_option('display.max_rows', None)\n"
   ]
  },
  {
   "cell_type": "code",
   "execution_count": 2,
   "metadata": {},
   "outputs": [],
   "source": [
    "options = Options()\n",
    "options.add_argument(\"start-maximized\")"
   ]
  },
  {
   "cell_type": "code",
   "execution_count": 3,
   "metadata": {},
   "outputs": [],
   "source": [
    "# Links\n",
    "# 2020: https://www.ceroacero.es/edition.php?id_edicao=141620\n",
    "    # Jornada 1: https://www.ceroacero.es/edition.php?jornada_in=1&id_edicao=141620&fase=136763\n",
    "# 2021: https://www.ceroacero.es/edition.php?id_edicao=153891"
   ]
  },
  {
   "cell_type": "code",
   "execution_count": 4,
   "metadata": {},
   "outputs": [],
   "source": [
    "driver = webdriver.Chrome(\n",
    "        executable_path='web_driver/chromedriver.exe', options=options)"
   ]
  },
  {
   "cell_type": "code",
   "execution_count": 5,
   "metadata": {},
   "outputs": [],
   "source": [
    "# Ingresando a página para obtener información de los partidos de futbol la Liga 1 Peruana 2020-2021\n",
    "page_url = f'https://www.ceroacero.es/edition.php?jornada_in=1&id_edicao=141620&fase=136763'\n",
    "driver.get(page_url)\n",
    "\n",
    "cookies = pickle.load(open(\"data/ceroacero_cookies.pkl\", \"rb\"))\n",
    "for cookie in cookies:\n",
    "    driver.add_cookie(cookie)\n",
    "\n",
    "driver.refresh()    "
   ]
  },
  {
   "cell_type": "code",
   "execution_count": 6,
   "metadata": {},
   "outputs": [
    {
     "data": {
      "text/plain": [
       "['01/02 FBC Melgar 1-2 Universitario FG',\n",
       " 'Alianza Lima 2-3 Alianza Huánuco FG',\n",
       " 'Univ. Técnica 2-1 Sporting Cristal FG',\n",
       " 'Sport Huancayo 1-0 Atlético Grau FG',\n",
       " '02/02 Univ. César Vallejo 1-1 Deportivo Municipal FG',\n",
       " 'Univ. San Martín 3-1 Ayacucho FC FG',\n",
       " 'Academia Cantolao 2-1 Cienciano FG',\n",
       " 'FC Carlos Stein 0-3 Carlos A. Mannucci FG',\n",
       " 'Sport Boys Callao 3-2 Deportivo Llacuabamba FG',\n",
       " '03/02 Cusco FC 0-2 Binacional FG']"
      ]
     },
     "execution_count": 6,
     "metadata": {},
     "output_type": "execute_result"
    }
   ],
   "source": [
    "# Resultados de los Partidos\n",
    "results = driver.find_element(By.CLASS_NAME, \"box_container\")\n",
    "results = list(map(str.strip, results.text.split(\"\\n\")))\n",
    "results"
   ]
  },
  {
   "cell_type": "code",
   "execution_count": 7,
   "metadata": {},
   "outputs": [
    {
     "data": {
      "text/plain": [
       "'https://www.ceroacero.es/match.php?id=7324632'"
      ]
     },
     "execution_count": 7,
     "metadata": {},
     "output_type": "execute_result"
    }
   ],
   "source": [
    "results_links = driver.find_elements(By.CLASS_NAME, \"result > a\")\n",
    "results_links = results_links[:len(results_links)//2]\n",
    "results_links[9].get_attribute(\"href\")"
   ]
  },
  {
   "cell_type": "code",
   "execution_count": 8,
   "metadata": {},
   "outputs": [],
   "source": [
    "temp = results_links[9].get_attribute(\"href\")\n",
    "driver.get(temp)"
   ]
  },
  {
   "cell_type": "code",
   "execution_count": 9,
   "metadata": {},
   "outputs": [
    {
     "data": {
      "text/plain": [
       "'https://www.ceroacero.es/match.php?id=7324632'"
      ]
     },
     "execution_count": 9,
     "metadata": {},
     "output_type": "execute_result"
    }
   ],
   "source": [
    "temp"
   ]
  },
  {
   "cell_type": "code",
   "execution_count": 10,
   "metadata": {},
   "outputs": [
    {
     "data": {
      "text/plain": [
       "[<selenium.webdriver.remote.webelement.WebElement (session=\"5db1bcccb180a3ac50043873c05eca1c\", element=\"6bb5be10-8153-4729-84dd-1d185f96b06b\")>,\n",
       " <selenium.webdriver.remote.webelement.WebElement (session=\"5db1bcccb180a3ac50043873c05eca1c\", element=\"e52d996a-6121-48c3-9bf7-900db0e8fc93\")>,\n",
       " <selenium.webdriver.remote.webelement.WebElement (session=\"5db1bcccb180a3ac50043873c05eca1c\", element=\"8c279c6b-6d5a-4fa8-a9b2-d1d61dfd8431\")>]"
      ]
     },
     "execution_count": 10,
     "metadata": {},
     "output_type": "execute_result"
    }
   ],
   "source": [
    "headers = driver.find_elements(By.XPATH, '//*[@id=\"page_main\"]/div[1]/table/tbody/tr[2]/td/span')\n",
    "headers"
   ]
  },
  {
   "cell_type": "code",
   "execution_count": 11,
   "metadata": {},
   "outputs": [
    {
     "data": {
      "text/plain": [
       "'lunes 3 febrero 2020 - 21h00 - ()'"
      ]
     },
     "execution_count": 11,
     "metadata": {},
     "output_type": "execute_result"
    }
   ],
   "source": [
    "date_time = driver.find_element(By.XPATH, '//*[@id=\"match_data\"]/span[1]')\n",
    "date_time.text"
   ]
  },
  {
   "cell_type": "code",
   "execution_count": 12,
   "metadata": {},
   "outputs": [
    {
     "data": {
      "text/plain": [
       "'53.50% 46.50%'"
      ]
     },
     "execution_count": 12,
     "metadata": {},
     "output_type": "execute_result"
    }
   ],
   "source": [
    "headers[0].text"
   ]
  },
  {
   "cell_type": "code",
   "execution_count": 13,
   "metadata": {},
   "outputs": [
    {
     "name": "stdout",
     "output_type": "stream",
     "text": [
      "53.50% 46.50%\n",
      "(2) 13 9 (3)\n",
      "5 4\n"
     ]
    }
   ],
   "source": [
    "for i in headers:\n",
    "    print(i.text)"
   ]
  },
  {
   "cell_type": "code",
   "execution_count": null,
   "metadata": {},
   "outputs": [],
   "source": []
  }
 ],
 "metadata": {
  "kernelspec": {
   "display_name": "Python 3.9.7 ('venv': venv)",
   "language": "python",
   "name": "python3"
  },
  "language_info": {
   "codemirror_mode": {
    "name": "ipython",
    "version": 3
   },
   "file_extension": ".py",
   "mimetype": "text/x-python",
   "name": "python",
   "nbconvert_exporter": "python",
   "pygments_lexer": "ipython3",
   "version": "3.9.7"
  },
  "orig_nbformat": 4,
  "vscode": {
   "interpreter": {
    "hash": "7036403a8e73382333f7756f1e55582662a8c17d36deed73eee412f515ddea5b"
   }
  }
 },
 "nbformat": 4,
 "nbformat_minor": 2
}
