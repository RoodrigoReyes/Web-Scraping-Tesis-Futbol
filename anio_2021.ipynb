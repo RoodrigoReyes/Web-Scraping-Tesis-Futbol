{
 "cells": [
  {
   "cell_type": "code",
   "execution_count": 1,
   "metadata": {},
   "outputs": [],
   "source": [
    "# Importando Librerías\n",
    "import re\n",
    "import json\n",
    "import pickle\n",
    "import pprint\n",
    "import pandas as pd\n",
    "import numpy as np\n",
    "import matplotlib.pyplot as plt\n",
    "from selenium import webdriver\n",
    "from selenium.webdriver.common.by import By\n",
    "from selenium.webdriver.chrome.options import Options\n",
    "\n",
    "from classes.game import Game\n",
    "import warnings\n",
    "warnings.filterwarnings(\"ignore\")"
   ]
  },
  {
   "cell_type": "code",
   "execution_count": 2,
   "metadata": {},
   "outputs": [],
   "source": [
    "# Links\n",
    "# 2021: https://www.ceroacero.es/edition.php?id_edicao=153891"
   ]
  },
  {
   "cell_type": "code",
   "execution_count": 3,
   "metadata": {},
   "outputs": [],
   "source": [
    "anio_2021 = Game()"
   ]
  },
  {
   "cell_type": "code",
   "execution_count": 4,
   "metadata": {},
   "outputs": [],
   "source": [
    "link_2021 = 'https://www.ceroacero.es/edition.php?id_edicao=153891'\n",
    "anio_2021.get_web(link_2021)\n",
    "anio_2021.add_cookies()"
   ]
  },
  {
   "cell_type": "code",
   "execution_count": 5,
   "metadata": {},
   "outputs": [
    {
     "data": {
      "text/plain": [
       "17"
      ]
     },
     "execution_count": 5,
     "metadata": {},
     "output_type": "execute_result"
    }
   ],
   "source": [
    "total_jornadas = anio_2021.get_jornadas(year=2021)\n",
    "total_jornadas"
   ]
  },
  {
   "cell_type": "code",
   "execution_count": 6,
   "metadata": {},
   "outputs": [
    {
     "name": "stdout",
     "output_type": "stream",
     "text": [
      "Total de Jornadas 17\n",
      "Jornada 1 -> https://www.ceroacero.es/edition.php?jornada_in=1&id_edicao=153891&fase=146778\n",
      "\t https://www.ceroacero.es/match.php?id=8066759 https://www.ceroacero.es/match_performance.php?id=8066759 Tablas -> 4\n",
      "\t https://www.ceroacero.es/match.php?id=8066760 https://www.ceroacero.es/match_performance.php?id=8066760 Tablas -> 4\n",
      "\t https://www.ceroacero.es/match.php?id=8066761 https://www.ceroacero.es/match_performance.php?id=8066761 Tablas -> 4\n",
      "\t https://www.ceroacero.es/match.php?id=8066762 https://www.ceroacero.es/match_performance.php?id=8066762 Tablas -> 4\n",
      "\t https://www.ceroacero.es/match.php?id=8066763 https://www.ceroacero.es/match_performance.php?id=8066763 Tablas -> 4\n",
      "\t https://www.ceroacero.es/match.php?id=8066764 https://www.ceroacero.es/match_performance.php?id=8066764 Tablas -> 4\n",
      "\t https://www.ceroacero.es/match.php?id=8066765 https://www.ceroacero.es/match_performance.php?id=8066765 Tablas -> 4\n",
      "\t https://www.ceroacero.es/match.php?id=8066766 https://www.ceroacero.es/match_performance.php?id=8066766 Tablas -> 4\n",
      "\t https://www.ceroacero.es/match.php?id=8066767 https://www.ceroacero.es/match_performance.php?id=8066767 Tablas -> 4\n",
      "------------------------------------------------------------------------------------------------------------------------------------------------------\n"
     ]
    }
   ],
   "source": [
    "print('Total de Jornadas', total_jornadas)\n",
    "\n",
    "for jornada in range(1,total_jornadas+1):\n",
    "    link_jornada = f'https://www.ceroacero.es/edition.php?jornada_in={jornada}&id_edicao=153891&fase=146778'\n",
    "    \n",
    "    print('Jornada', jornada, '->', link_jornada)\n",
    "\n",
    "    anio_2021.get_web(link_jornada)\n",
    "    games_links = anio_2021.games_links()\n",
    "\n",
    "    if jornada!=total_jornadas:\n",
    "        games_links = games_links[:len(games_links)//2]\n",
    "\n",
    "    for game in games_links:\n",
    "\n",
    "        print('\\t',game, end=' ')\n",
    "        anio_2021.get_web(game)\n",
    "\n",
    "        performance_link = game.replace('match','match_performance')\n",
    "        performance_table = pd.read_html(performance_link)\n",
    "        print(performance_link,'Tablas ->',len(performance_table))\n",
    "\n",
    "    print('-'*150)\n",
    "    break"
   ]
  },
  {
   "cell_type": "code",
   "execution_count": null,
   "metadata": {},
   "outputs": [],
   "source": []
  }
 ],
 "metadata": {
  "kernelspec": {
   "display_name": "Python 3.9.7 ('venv': venv)",
   "language": "python",
   "name": "python3"
  },
  "language_info": {
   "codemirror_mode": {
    "name": "ipython",
    "version": 3
   },
   "file_extension": ".py",
   "mimetype": "text/x-python",
   "name": "python",
   "nbconvert_exporter": "python",
   "pygments_lexer": "ipython3",
   "version": "3.9.7"
  },
  "orig_nbformat": 4,
  "vscode": {
   "interpreter": {
    "hash": "7036403a8e73382333f7756f1e55582662a8c17d36deed73eee412f515ddea5b"
   }
  }
 },
 "nbformat": 4,
 "nbformat_minor": 2
}
