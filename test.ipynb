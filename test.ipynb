{
 "cells": [
  {
   "cell_type": "code",
   "execution_count": 1,
   "metadata": {},
   "outputs": [],
   "source": [
    "# Importando Librerías\n",
    "import re\n",
    "import json\n",
    "import time\n",
    "import pickle\n",
    "import pprint\n",
    "import pandas as pd\n",
    "import numpy as np\n",
    "import matplotlib.pyplot as plt\n",
    "from selenium import webdriver\n",
    "from selenium.webdriver.common.by import By\n",
    "from selenium.webdriver.chrome.options import Options\n",
    "\n",
    "from classes.game import Game\n",
    "import warnings\n",
    "warnings.filterwarnings(\"ignore\")"
   ]
  },
  {
   "cell_type": "code",
   "execution_count": 2,
   "metadata": {},
   "outputs": [],
   "source": [
    "# Links\n",
    "# 2020: https://www.ceroacero.es/edition.php?id_edicao=141620\n",
    "    # Jornada 1: https://www.ceroacero.es/edition.php?jornada_in=1&id_edicao=141620&fase=136763"
   ]
  },
  {
   "cell_type": "code",
   "execution_count": 3,
   "metadata": {},
   "outputs": [],
   "source": [
    "anio_2020 = Game()"
   ]
  },
  {
   "cell_type": "code",
   "execution_count": 4,
   "metadata": {},
   "outputs": [],
   "source": [
    "link_2020 = 'https://www.ceroacero.es/edition.php?jornada_in=1&id_edicao=141620&fase=136763'\n",
    "anio_2020.get_web(link_2020)\n",
    "anio_2020.add_cookies()"
   ]
  },
  {
   "cell_type": "code",
   "execution_count": 5,
   "metadata": {},
   "outputs": [
    {
     "data": {
      "text/plain": [
       "19"
      ]
     },
     "execution_count": 5,
     "metadata": {},
     "output_type": "execute_result"
    }
   ],
   "source": [
    "anio_2020.get_jornadas()"
   ]
  },
  {
   "cell_type": "code",
   "execution_count": 6,
   "metadata": {},
   "outputs": [
    {
     "data": {
      "text/plain": [
       "['https://www.ceroacero.es/match.php?id=7324623',\n",
       " 'https://www.ceroacero.es/match.php?id=7324624',\n",
       " 'https://www.ceroacero.es/match.php?id=7324625',\n",
       " 'https://www.ceroacero.es/match.php?id=7324626',\n",
       " 'https://www.ceroacero.es/match.php?id=7324627',\n",
       " 'https://www.ceroacero.es/match.php?id=7324628',\n",
       " 'https://www.ceroacero.es/match.php?id=7324629',\n",
       " 'https://www.ceroacero.es/match.php?id=7324630',\n",
       " 'https://www.ceroacero.es/match.php?id=7324631',\n",
       " 'https://www.ceroacero.es/match.php?id=7324632']"
      ]
     },
     "execution_count": 6,
     "metadata": {},
     "output_type": "execute_result"
    }
   ],
   "source": [
    "games_links = anio_2020.games_links()\n",
    "games_links"
   ]
  },
  {
   "cell_type": "code",
   "execution_count": null,
   "metadata": {},
   "outputs": [],
   "source": [
    "mae"
   ]
  }
 ],
 "metadata": {
  "kernelspec": {
   "display_name": "Python 3.9.7 ('venv': venv)",
   "language": "python",
   "name": "python3"
  },
  "language_info": {
   "codemirror_mode": {
    "name": "ipython",
    "version": 3
   },
   "file_extension": ".py",
   "mimetype": "text/x-python",
   "name": "python",
   "nbconvert_exporter": "python",
   "pygments_lexer": "ipython3",
   "version": "3.9.7"
  },
  "orig_nbformat": 4,
  "vscode": {
   "interpreter": {
    "hash": "7036403a8e73382333f7756f1e55582662a8c17d36deed73eee412f515ddea5b"
   }
  }
 },
 "nbformat": 4,
 "nbformat_minor": 2
}
