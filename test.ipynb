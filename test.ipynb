{
 "cells": [
  {
   "cell_type": "code",
   "execution_count": 1,
   "metadata": {},
   "outputs": [],
   "source": [
    "# Importando Librerías\n",
    "import re\n",
    "import json\n",
    "import time\n",
    "import pickle\n",
    "import pprint\n",
    "import pandas as pd\n",
    "import numpy as np\n",
    "import matplotlib.pyplot as plt\n",
    "from selenium import webdriver\n",
    "from selenium.webdriver.common.by import By\n",
    "from selenium.webdriver.chrome.options import Options\n",
    "import warnings\n",
    "warnings.filterwarnings(\"ignore\")\n",
    "pd.set_option('display.max_columns', None)\n"
   ]
  },
  {
   "cell_type": "code",
   "execution_count": 2,
   "metadata": {},
   "outputs": [],
   "source": [
    "options = Options()\n",
    "# options.add_argument(\"start-maximized\")"
   ]
  },
  {
   "cell_type": "code",
   "execution_count": 3,
   "metadata": {},
   "outputs": [],
   "source": [
    "# Links\n",
    "# 2020: https://www.ceroacero.es/edition.php?id_edicao=141620\n",
    "    # Jornada 1: https://www.ceroacero.es/edition.php?jornada_in=1&id_edicao=141620&fase=136763"
   ]
  },
  {
   "cell_type": "code",
   "execution_count": 4,
   "metadata": {},
   "outputs": [],
   "source": [
    "driver = webdriver.Chrome(\n",
    "        executable_path='web_driver/chromedriver.exe', options=options)"
   ]
  },
  {
   "cell_type": "code",
   "execution_count": null,
   "metadata": {},
   "outputs": [],
   "source": [
    "driver.get('https://www.ceroacero.es/edition.php?jornada_in=9&id_edicao=153891&fase=146778')"
   ]
  },
  {
   "cell_type": "code",
   "execution_count": null,
   "metadata": {},
   "outputs": [],
   "source": [
    "t = driver.find_element(By.CLASS_NAME, \"box_container\")\n",
    "list(map(str.strip, t.text.split(\"\\n\")))"
   ]
  },
  {
   "cell_type": "code",
   "execution_count": null,
   "metadata": {},
   "outputs": [],
   "source": [
    "t = driver.find_element(By.CLASS_NAME, \"box_container\")\n",
    "results = list(map(str.strip, t.text.split(\"\\n\")))\n",
    "results"
   ]
  },
  {
   "cell_type": "code",
   "execution_count": null,
   "metadata": {},
   "outputs": [],
   "source": [
    "# Obtener Datos de los Partidos: Fecha - Equipo Local - Equipo Visitante - Goles Locales - Goles Visitante\n",
    "games_date = []\n",
    "for game in results:\n",
    "    if bool(re.match(r\"[\\d][\\d]\", game)):\n",
    "        date_game = game[:5]\n",
    "        game = game[6:]\n",
    "\n",
    "        # Nombres de los equipos\n",
    "        teams_score = game.split('-')\n",
    "        if len(teams_score)<2:\n",
    "            teams_score = game.split(' DA ')\n",
    "\n",
    "        # print(teams_score)\n",
    "        name_local = ' '.join(teams_score[0].split()[:-1])\n",
    "        name_away = ' '.join(teams_score[1].split()[1:-1])\n",
    "\n",
    "        # Resultados\n",
    "        score_local = re.findall(r'\\d+', teams_score[0])[0]\n",
    "        score_away = re.findall(r'\\d+', teams_score[1])[0]\n",
    "\n",
    "        games_date.append([date_game, name_local,\n",
    "                            name_away, int(score_local), int(score_away)])\n",
    "    else:\n",
    "        # Nombres de los equipos\n",
    "        teams_score = game.split('-')\n",
    "        if len(teams_score)<2:\n",
    "            teams_score = game.replace(' DA ', ' 3-0 ').split('-')\n",
    "            \n",
    "        # print(teams_score)\n",
    "        name_local = ' '.join(teams_score[0].split()[:-1])\n",
    "        name_away = ' '.join(teams_score[1].split()[1:-1])\n",
    "\n",
    "        # Resultados\n",
    "        score_local = re.findall(r'\\d+', teams_score[0])[0]\n",
    "        score_away = re.findall(r'\\d+', teams_score[1])[0]\n",
    "\n",
    "        games_date.append([date_game, name_local,\n",
    "                            name_away, int(score_local), int(score_away)])\n",
    "    \n",
    "    print([date_game, name_local,name_away, int(score_local), int(score_away)])"
   ]
  },
  {
   "cell_type": "code",
   "execution_count": null,
   "metadata": {},
   "outputs": [],
   "source": [
    "# Ingresando a página para obtener información de los partidos de futbol la Liga 1 Peruana 2020\n",
    "page_url = f'https://www.ceroacero.es/edition.php?jornada_in=1&id_edicao=141620&fase=136763'\n",
    "driver.get(page_url)\n",
    "\n",
    "cookies = pickle.load(open(\"cookies/ceroacero_cookies.pkl\", \"rb\"))\n",
    "for cookie in cookies:\n",
    "    driver.add_cookie(cookie)\n",
    "\n",
    "driver.refresh()"
   ]
  },
  {
   "cell_type": "code",
   "execution_count": null,
   "metadata": {},
   "outputs": [],
   "source": [
    "# Resultados de los Partidos\n",
    "results = driver.find_element(By.CLASS_NAME, \"box_container\")\n",
    "results = list(map(str.strip, results.text.split(\"\\n\")))\n",
    "print(results)\n"
   ]
  },
  {
   "cell_type": "code",
   "execution_count": null,
   "metadata": {},
   "outputs": [],
   "source": [
    "for index, value in enumerate(results):\n",
    "    print(index, value)"
   ]
  },
  {
   "cell_type": "code",
   "execution_count": null,
   "metadata": {},
   "outputs": [],
   "source": [
    "# Obtener fecha del Partido\n",
    "games_date = []\n",
    "for game in results:\n",
    "    if bool(re.match(r\"[\\d][\\d]\", game)):\n",
    "        date_game = game[:5]\n",
    "        game = game[6:]\n",
    "\n",
    "        # Nombres de los equipos\n",
    "        teams_score = game.split('-')\n",
    "\n",
    "        name_local = ' '.join(teams_score[0].split()[:-1])\n",
    "        name_away = ' '.join(teams_score[1].split()[1:-1])\n",
    "\n",
    "        # Resultados\n",
    "        score_local = re.findall(r'\\d+', teams_score[0])[0]\n",
    "        score_away = re.findall(r'\\d+', teams_score[1])[0]\n",
    "\n",
    "        games_date.append([date_game, name_local,\n",
    "                          name_away, int(score_local), int(score_away)])\n",
    "    else:\n",
    "        # Nombres de los equipos\n",
    "        teams_score = game.split('-')\n",
    "\n",
    "        name_local = ' '.join(teams_score[0].split()[:-1])\n",
    "        name_away = ' '.join(teams_score[1].split()[1:-1])\n",
    "\n",
    "        # Resultados\n",
    "        score_local = re.findall(r'\\d+', teams_score[0])[0]\n",
    "        score_away = re.findall(r'\\d+', teams_score[1])[0]\n",
    "\n",
    "        games_date.append([date_game, name_local,\n",
    "                          name_away, int(score_local), int(score_away)])\n",
    "\n",
    "games_date\n"
   ]
  },
  {
   "cell_type": "code",
   "execution_count": null,
   "metadata": {},
   "outputs": [],
   "source": [
    "game_links = driver.find_elements(By.CLASS_NAME, \"result > a\")\n",
    "game_links = game_links[:len(game_links)//2]\n",
    "\n",
    "for game_link in game_links:\n",
    "    print(game_link.get_attribute(\"href\"))"
   ]
  },
  {
   "cell_type": "code",
   "execution_count": null,
   "metadata": {},
   "outputs": [],
   "source": [
    "local = driver.find_elements(By.CLASS_NAME, 'home')\n",
    "local[0].text.split('\\n')"
   ]
  },
  {
   "cell_type": "code",
   "execution_count": null,
   "metadata": {},
   "outputs": [],
   "source": [
    "stats = driver.find_element(By.XPATH, '//*[@id=\"page_main\"]/div[1]/table').text.split('\\n')[1]\n",
    "# stats.find(' ')\n",
    "stats.split()"
   ]
  },
  {
   "cell_type": "code",
   "execution_count": null,
   "metadata": {},
   "outputs": [],
   "source": []
  },
  {
   "cell_type": "code",
   "execution_count": null,
   "metadata": {},
   "outputs": [],
   "source": [
    "temp = game_links[1].get_attribute(\"href\")\n",
    "driver.get(temp)"
   ]
  },
  {
   "cell_type": "code",
   "execution_count": null,
   "metadata": {},
   "outputs": [],
   "source": [
    "headers = driver.find_elements(By.XPATH, '//*[@id=\"page_main\"]/div[1]/table/tbody/tr[2]/td/span')\n",
    "for i in headers:\n",
    "    print(i.text)"
   ]
  },
  {
   "cell_type": "code",
   "execution_count": null,
   "metadata": {},
   "outputs": [],
   "source": [
    "stats = pd.read_html(temp.replace('match','match_performance'))\n",
    "stats"
   ]
  },
  {
   "cell_type": "code",
   "execution_count": null,
   "metadata": {},
   "outputs": [],
   "source": [
    "stats[2].rename(columns={'Unnamed: 0':'Jugadores'})"
   ]
  },
  {
   "cell_type": "code",
   "execution_count": null,
   "metadata": {},
   "outputs": [],
   "source": [
    "stats[3].rename(columns={'Unnamed: 0':'Jugadores'})"
   ]
  },
  {
   "cell_type": "code",
   "execution_count": null,
   "metadata": {},
   "outputs": [],
   "source": [
    "stats = driver.find_element(By.XPATH, '//*[@id=\"page_rightbar\"]/div[3]/div/div[2]')\n",
    "all_stats = stats.text.split('\\n')\n",
    "all_stats = [stats.strip(' ') for stats in all_stats]\n",
    "all_stats = [all_stats[i:i+3] for i in range(0, len(all_stats), 3)]\n",
    "all_stats"
   ]
  },
  {
   "cell_type": "code",
   "execution_count": 5,
   "metadata": {},
   "outputs": [],
   "source": [
    "driver.get('https://www.ceroacero.es/match.php?id=7324824')"
   ]
  },
  {
   "cell_type": "code",
   "execution_count": 22,
   "metadata": {},
   "outputs": [],
   "source": [
    "stats = driver.find_element(\n",
    "    By.XPATH, '//*[@id=\"page_rightbar\"]/div[3]/div/div[2]')\n",
    "all_stats = stats.text.split('\\n')\n",
    "all_stats = [stats.strip(' ') for stats in all_stats]\n",
    "all_stats = {all_stats[i]:all_stats[i+1:i+3] for i in range(0, len(all_stats), 3)}"
   ]
  },
  {
   "cell_type": "code",
   "execution_count": 23,
   "metadata": {},
   "outputs": [
    {
     "data": {
      "text/plain": [
       "{'REMATES A PUERTA': ['2', '1'],\n",
       " 'TIROS': ['6', '8'],\n",
       " 'FALTAS': ['19', '19'],\n",
       " 'SAQUES DE ESQUINA': ['1', '7'],\n",
       " 'POSESIÓN': ['53 %', '47 %']}"
      ]
     },
     "execution_count": 23,
     "metadata": {},
     "output_type": "execute_result"
    }
   ],
   "source": [
    "all_stats"
   ]
  },
  {
   "cell_type": "code",
   "execution_count": null,
   "metadata": {},
   "outputs": [],
   "source": []
  }
 ],
 "metadata": {
  "kernelspec": {
   "display_name": "Python 3.9.7 ('venv': venv)",
   "language": "python",
   "name": "python3"
  },
  "language_info": {
   "codemirror_mode": {
    "name": "ipython",
    "version": 3
   },
   "file_extension": ".py",
   "mimetype": "text/x-python",
   "name": "python",
   "nbconvert_exporter": "python",
   "pygments_lexer": "ipython3",
   "version": "3.9.7"
  },
  "orig_nbformat": 4,
  "vscode": {
   "interpreter": {
    "hash": "7036403a8e73382333f7756f1e55582662a8c17d36deed73eee412f515ddea5b"
   }
  }
 },
 "nbformat": 4,
 "nbformat_minor": 2
}
