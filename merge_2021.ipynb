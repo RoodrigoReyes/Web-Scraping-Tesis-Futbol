{
 "cells": [
  {
   "cell_type": "code",
   "execution_count": null,
   "metadata": {},
   "outputs": [],
   "source": [
    "import pandas as pd\n",
    "import glob\n",
    "pd.set_option('display.max_columns', None)\n"
   ]
  },
  {
   "cell_type": "code",
   "execution_count": null,
   "metadata": {},
   "outputs": [],
   "source": [
    "def merge_data():\n",
    "    df = pd.DataFrame()\n",
    "    for file in glob.glob('data/2021/*/*.xlsx'):\n",
    "\n",
    "        teams = file.split('\\\\')[-1].split(' vs ')\n",
    "        local = teams[0]\n",
    "        away = teams[1].replace('.xlsx', '')\n",
    "        jornada = int(file.split('\\\\')[1].split()[-1])\n",
    "\n",
    "        # Equipo Local\n",
    "        local_stats = pd.read_excel(file, sheet_name=local)\n",
    "        local_stats['Team'] = local\n",
    "        local_stats['Status'] = 'L'\n",
    "\n",
    "        # Equipo Visitante\n",
    "        visit_stats = pd.read_excel(file, sheet_name=away)\n",
    "        visit_stats['Team'] = away\n",
    "        visit_stats['Status'] = 'V'\n",
    "\n",
    "        # Merge\n",
    "        team_stats = pd.concat([local_stats, visit_stats],\n",
    "                               axis=0, ignore_index=True)\n",
    "        team_stats['Jornada'] = jornada\n",
    "        team_stats['match'] = file.split('\\\\')[-1].replace('.xlsx', '')\n",
    "        team_stats['path'] = file\n",
    "\n",
    "        df = pd.concat([df, team_stats], ignore_index=True, axis=0)\n",
    "\n",
    "    df.columns = ['player', 'position', 'minutes', 'goals', 'own goal', 'assists',\n",
    "                  'yellow cards', 'red cards', 'penaltis', 'stop penaltis', 'fail penaltis',\n",
    "                  'shots ot', 'attemps ot', 'total entrys', 'success entrys', 'steels', 'passes',\n",
    "                  'success passes', 'prc passes', 'saves', 'fouls commited', 'foults suffered',\n",
    "                  'team', 'status', 'matchday', 'match', 'path']\n",
    "\n",
    "    return df\n"
   ]
  },
  {
   "cell_type": "code",
   "execution_count": null,
   "metadata": {},
   "outputs": [],
   "source": [
    "df = merge_data()\n"
   ]
  },
  {
   "cell_type": "code",
   "execution_count": null,
   "metadata": {},
   "outputs": [],
   "source": [
    "df.head()\n"
   ]
  },
  {
   "cell_type": "code",
   "execution_count": null,
   "metadata": {},
   "outputs": [],
   "source": [
    "df[df.isnull().any(1)]\n"
   ]
  },
  {
   "cell_type": "code",
   "execution_count": null,
   "metadata": {},
   "outputs": [],
   "source": [
    "df.info()\n"
   ]
  },
  {
   "cell_type": "code",
   "execution_count": null,
   "metadata": {},
   "outputs": [],
   "source": [
    "df.groupby(['matchday', 'file', 'team']).size().reset_index(name=\"players\").sort_values(\n",
    "    by=['matchday', 'file', 'players'], ignore_index=True, ascending=[True, True, True])\n"
   ]
  },
  {
   "cell_type": "code",
   "execution_count": null,
   "metadata": {},
   "outputs": [],
   "source": [
    "df.groupby([\"player\", \"team\"]).size().reset_index(name=\"games played\").sort_values(\n",
    "    'games played', ignore_index=True, ascending=False)\n"
   ]
  },
  {
   "cell_type": "code",
   "execution_count": null,
   "metadata": {},
   "outputs": [],
   "source": [
    "df[df.player == 'Diego Otoya'].sort_values('matchday')\n"
   ]
  },
  {
   "cell_type": "code",
   "execution_count": null,
   "metadata": {},
   "outputs": [],
   "source": []
  }
 ],
 "metadata": {
  "kernelspec": {
   "display_name": "Python 3.9.7 ('venv': venv)",
   "language": "python",
   "name": "python3"
  },
  "language_info": {
   "codemirror_mode": {
    "name": "ipython",
    "version": 3
   },
   "file_extension": ".py",
   "mimetype": "text/x-python",
   "name": "python",
   "nbconvert_exporter": "python",
   "pygments_lexer": "ipython3",
   "version": "3.9.7"
  },
  "orig_nbformat": 4,
  "vscode": {
   "interpreter": {
    "hash": "7036403a8e73382333f7756f1e55582662a8c17d36deed73eee412f515ddea5b"
   }
  }
 },
 "nbformat": 4,
 "nbformat_minor": 2
}
