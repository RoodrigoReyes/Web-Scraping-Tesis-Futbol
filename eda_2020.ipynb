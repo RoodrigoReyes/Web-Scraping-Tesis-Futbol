{
 "cells": [
  {
   "cell_type": "code",
   "execution_count": null,
   "metadata": {},
   "outputs": [],
   "source": [
    "import time\n",
    "import random\n",
    "import pandas as pd\n",
    "import numpy as np\n",
    "from pathlib import Path\n",
    "import os.path\n",
    "import warnings\n",
    "warnings.filterwarnings(\"ignore\")\n",
    "\n",
    "pd.set_option('display.max_columns', None)"
   ]
  },
  {
   "cell_type": "code",
   "execution_count": null,
   "metadata": {},
   "outputs": [],
   "source": [
    "df = pd.read_pickle('data/2020_stats_final.pkl')\n",
    "df.columns = [column.capitalize() for column in df.columns]\n",
    "df"
   ]
  },
  {
   "cell_type": "code",
   "execution_count": null,
   "metadata": {},
   "outputs": [],
   "source": [
    "def extract_stats(df):\n",
    "    for jornada, local, visit, link in zip(df.Jornada, df.Local, df.Visitante, df.Link):\n",
    "        \n",
    "        dir = f\"data/2020/Jornada {jornada}\"\n",
    "        Path(dir).mkdir(parents=True, exist_ok=True)\n",
    "\n",
    "        if not os.path.exists(f'{dir}/{local} vs {visit}.xlsx'):\n",
    "\n",
    "            print(jornada, link, local,'vs',visit)\n",
    "\n",
    "            # Games Stats\n",
    "            teams_stats = pd.read_html(link.replace('match','match_performance'))\n",
    "\n",
    "            if len(teams_stats)<2:\n",
    "\n",
    "                # Create a Pandas Excel writer using XlsxWriter as the engine.\n",
    "                writer = pd.ExcelWriter(f'{dir}/NA {local} vs {visit}.xlsx', engine='xlsxwriter')\n",
    "\n",
    "                writer.save()\n",
    "                writer.close()\n",
    "\n",
    "                time.sleep(random.randint(5, 10))\n",
    "                continue\n",
    "\n",
    "            # Create a Pandas Excel writer using XlsxWriter as the engine.\n",
    "            writer = pd.ExcelWriter(f'{dir}/{local} vs {visit}.xlsx', engine='xlsxwriter')\n",
    "\n",
    "            # Splitting Stats by Local - Visit\n",
    "            local_stats = teams_stats[2].rename(columns={'Unnamed: 0':'Jugador'})\n",
    "            visit_stats = teams_stats[3].rename(columns={'Unnamed: 0':'Jugador'})\n",
    "\n",
    "            # Convert the dataframe to an XlsxWriter Excel object.\n",
    "            local_stats.to_excel(writer, sheet_name=f'{local}', index=False)\n",
    "            visit_stats.to_excel(writer, sheet_name=f'{visit}', index=False)\n",
    "\n",
    "            # Close the Pandas Excel writer and output the Excel file.\n",
    "            writer.save()\n",
    "            writer.close()\n",
    "\n",
    "            time.sleep(random.randint(20, 30))\n",
    "        "
   ]
  },
  {
   "cell_type": "code",
   "execution_count": null,
   "metadata": {},
   "outputs": [],
   "source": [
    "extract_stats(df)"
   ]
  },
  {
   "cell_type": "code",
   "execution_count": null,
   "metadata": {},
   "outputs": [],
   "source": []
  }
 ],
 "metadata": {
  "kernelspec": {
   "display_name": "Python 3.9.7 ('venv': venv)",
   "language": "python",
   "name": "python3"
  },
  "language_info": {
   "codemirror_mode": {
    "name": "ipython",
    "version": 3
   },
   "file_extension": ".py",
   "mimetype": "text/x-python",
   "name": "python",
   "nbconvert_exporter": "python",
   "pygments_lexer": "ipython3",
   "version": "3.9.7"
  },
  "orig_nbformat": 4,
  "vscode": {
   "interpreter": {
    "hash": "7036403a8e73382333f7756f1e55582662a8c17d36deed73eee412f515ddea5b"
   }
  }
 },
 "nbformat": 4,
 "nbformat_minor": 2
}
